{
 "cells": [
  {
   "cell_type": "code",
   "execution_count": 2,
   "metadata": {},
   "outputs": [],
   "source": [
    "# Dependencies\n",
    "import pandas as pd"
   ]
  },
  {
   "cell_type": "code",
   "execution_count": 3,
   "metadata": {},
   "outputs": [],
   "source": [
    "# Store filepath in a variable\n",
    "pymoli_data = \"Resources/purchase_data.csv\""
   ]
  },
  {
   "cell_type": "code",
   "execution_count": 4,
   "metadata": {},
   "outputs": [],
   "source": [
    "# Read our Data file with the pandas library\n",
    "pymoli_data_df = pd.read_csv(pymoli_data)"
   ]
  },
  {
   "cell_type": "code",
   "execution_count": 6,
   "metadata": {},
   "outputs": [
    {
     "data": {
      "text/html": [
       "<div>\n",
       "<style scoped>\n",
       "    .dataframe tbody tr th:only-of-type {\n",
       "        vertical-align: middle;\n",
       "    }\n",
       "\n",
       "    .dataframe tbody tr th {\n",
       "        vertical-align: top;\n",
       "    }\n",
       "\n",
       "    .dataframe thead th {\n",
       "        text-align: right;\n",
       "    }\n",
       "</style>\n",
       "<table border=\"1\" class=\"dataframe\">\n",
       "  <thead>\n",
       "    <tr style=\"text-align: right;\">\n",
       "      <th></th>\n",
       "      <th>Purchase ID</th>\n",
       "      <th>SN</th>\n",
       "      <th>Age</th>\n",
       "      <th>Gender</th>\n",
       "      <th>Item ID</th>\n",
       "      <th>Item Name</th>\n",
       "      <th>Price</th>\n",
       "    </tr>\n",
       "  </thead>\n",
       "  <tbody>\n",
       "    <tr>\n",
       "      <th>0</th>\n",
       "      <td>0</td>\n",
       "      <td>Lisim78</td>\n",
       "      <td>20</td>\n",
       "      <td>Male</td>\n",
       "      <td>108</td>\n",
       "      <td>Extraction, Quickblade Of Trembling Hands</td>\n",
       "      <td>3.53</td>\n",
       "    </tr>\n",
       "    <tr>\n",
       "      <th>1</th>\n",
       "      <td>1</td>\n",
       "      <td>Lisovynya38</td>\n",
       "      <td>40</td>\n",
       "      <td>Male</td>\n",
       "      <td>143</td>\n",
       "      <td>Frenzied Scimitar</td>\n",
       "      <td>1.56</td>\n",
       "    </tr>\n",
       "    <tr>\n",
       "      <th>2</th>\n",
       "      <td>2</td>\n",
       "      <td>Ithergue48</td>\n",
       "      <td>24</td>\n",
       "      <td>Male</td>\n",
       "      <td>92</td>\n",
       "      <td>Final Critic</td>\n",
       "      <td>4.88</td>\n",
       "    </tr>\n",
       "    <tr>\n",
       "      <th>3</th>\n",
       "      <td>3</td>\n",
       "      <td>Chamassasya86</td>\n",
       "      <td>24</td>\n",
       "      <td>Male</td>\n",
       "      <td>100</td>\n",
       "      <td>Blindscythe</td>\n",
       "      <td>3.27</td>\n",
       "    </tr>\n",
       "    <tr>\n",
       "      <th>4</th>\n",
       "      <td>4</td>\n",
       "      <td>Iskosia90</td>\n",
       "      <td>23</td>\n",
       "      <td>Male</td>\n",
       "      <td>131</td>\n",
       "      <td>Fury</td>\n",
       "      <td>1.44</td>\n",
       "    </tr>\n",
       "  </tbody>\n",
       "</table>\n",
       "</div>"
      ],
      "text/plain": [
       "   Purchase ID             SN  Age Gender  Item ID  \\\n",
       "0            0        Lisim78   20   Male      108   \n",
       "1            1    Lisovynya38   40   Male      143   \n",
       "2            2     Ithergue48   24   Male       92   \n",
       "3            3  Chamassasya86   24   Male      100   \n",
       "4            4      Iskosia90   23   Male      131   \n",
       "\n",
       "                                   Item Name  Price  \n",
       "0  Extraction, Quickblade Of Trembling Hands   3.53  \n",
       "1                          Frenzied Scimitar   1.56  \n",
       "2                               Final Critic   4.88  \n",
       "3                                Blindscythe   3.27  \n",
       "4                                       Fury   1.44  "
      ]
     },
     "execution_count": 6,
     "metadata": {},
     "output_type": "execute_result"
    }
   ],
   "source": [
    "# Show just the header to check that csv imported properly\n",
    "pymoli_data_df.head()"
   ]
  },
  {
   "cell_type": "code",
   "execution_count": 7,
   "metadata": {},
   "outputs": [
    {
     "data": {
      "text/html": [
       "<div>\n",
       "<style scoped>\n",
       "    .dataframe tbody tr th:only-of-type {\n",
       "        vertical-align: middle;\n",
       "    }\n",
       "\n",
       "    .dataframe tbody tr th {\n",
       "        vertical-align: top;\n",
       "    }\n",
       "\n",
       "    .dataframe thead th {\n",
       "        text-align: right;\n",
       "    }\n",
       "</style>\n",
       "<table border=\"1\" class=\"dataframe\">\n",
       "  <thead>\n",
       "    <tr style=\"text-align: right;\">\n",
       "      <th></th>\n",
       "      <th>Total Players</th>\n",
       "    </tr>\n",
       "  </thead>\n",
       "  <tbody>\n",
       "    <tr>\n",
       "      <th>0</th>\n",
       "      <td>576</td>\n",
       "    </tr>\n",
       "  </tbody>\n",
       "</table>\n",
       "</div>"
      ],
      "text/plain": [
       "  Total Players\n",
       "0           576"
      ]
     },
     "execution_count": 7,
     "metadata": {},
     "output_type": "execute_result"
    }
   ],
   "source": [
    "# Find the total number of players\n",
    "\n",
    "player_count = pymoli_data_df[\"SN\"].unique()\n",
    "player_count = len(player_count)\n",
    "player_count = {'Total Players':f'{player_count}'}\n",
    "player_count_df = pd.DataFrame(player_count,index=[0])\n",
    "player_count_df\n",
    "#Player Count: 576"
   ]
  },
  {
   "cell_type": "code",
   "execution_count": 8,
   "metadata": {},
   "outputs": [
    {
     "data": {
      "text/html": [
       "<div>\n",
       "<style scoped>\n",
       "    .dataframe tbody tr th:only-of-type {\n",
       "        vertical-align: middle;\n",
       "    }\n",
       "\n",
       "    .dataframe tbody tr th {\n",
       "        vertical-align: top;\n",
       "    }\n",
       "\n",
       "    .dataframe thead th {\n",
       "        text-align: right;\n",
       "    }\n",
       "</style>\n",
       "<table border=\"1\" class=\"dataframe\">\n",
       "  <thead>\n",
       "    <tr style=\"text-align: right;\">\n",
       "      <th></th>\n",
       "      <th>Number of Unique Items</th>\n",
       "    </tr>\n",
       "  </thead>\n",
       "  <tbody>\n",
       "    <tr>\n",
       "      <th>0</th>\n",
       "      <td>179</td>\n",
       "    </tr>\n",
       "  </tbody>\n",
       "</table>\n",
       "</div>"
      ],
      "text/plain": [
       "  Number of Unique Items\n",
       "0                    179"
      ]
     },
     "execution_count": 8,
     "metadata": {},
     "output_type": "execute_result"
    }
   ],
   "source": [
    "# Purchasing Analysis (Total)\n",
    "\n",
    "# Number of Unique Items\n",
    "unique_items = len(pymoli_data_df['Item ID'].unique())\n",
    "unique_items = {'Number of Unique Items':f'{unique_items}'}\n",
    "unique_items_df = pd.DataFrame(unique_items, index = [0])\n",
    "unique_items_df\n"
   ]
  },
  {
   "cell_type": "code",
   "execution_count": 9,
   "metadata": {},
   "outputs": [
    {
     "data": {
      "text/plain": [
       "780"
      ]
     },
     "execution_count": 9,
     "metadata": {},
     "output_type": "execute_result"
    }
   ],
   "source": [
    "# Total Number of Purchases\n",
    "num_of_purchases = (pymoli_data_df['Purchase ID'].count())\n",
    "num_of_purchases"
   ]
  },
  {
   "cell_type": "code",
   "execution_count": 10,
   "metadata": {},
   "outputs": [
    {
     "data": {
      "text/plain": [
       "2379.77"
      ]
     },
     "execution_count": 10,
     "metadata": {},
     "output_type": "execute_result"
    }
   ],
   "source": [
    "# Total Revenue\n",
    "revenue = (pymoli_data_df['Price'].sum())\n",
    "revenue"
   ]
  },
  {
   "cell_type": "code",
   "execution_count": 11,
   "metadata": {},
   "outputs": [
    {
     "data": {
      "text/html": [
       "<div>\n",
       "<style scoped>\n",
       "    .dataframe tbody tr th:only-of-type {\n",
       "        vertical-align: middle;\n",
       "    }\n",
       "\n",
       "    .dataframe tbody tr th {\n",
       "        vertical-align: top;\n",
       "    }\n",
       "\n",
       "    .dataframe thead th {\n",
       "        text-align: right;\n",
       "    }\n",
       "</style>\n",
       "<table border=\"1\" class=\"dataframe\">\n",
       "  <thead>\n",
       "    <tr style=\"text-align: right;\">\n",
       "      <th></th>\n",
       "      <th>Average Purchase Price</th>\n",
       "    </tr>\n",
       "  </thead>\n",
       "  <tbody>\n",
       "    <tr>\n",
       "      <th>0</th>\n",
       "      <td>3.0509871794871795</td>\n",
       "    </tr>\n",
       "  </tbody>\n",
       "</table>\n",
       "</div>"
      ],
      "text/plain": [
       "  Average Purchase Price\n",
       "0     3.0509871794871795"
      ]
     },
     "execution_count": 11,
     "metadata": {},
     "output_type": "execute_result"
    }
   ],
   "source": [
    "# Average Purchase Price = revenue/number of purchases\n",
    "avg_purchase_price = revenue/num_of_purchases\n",
    "avg_purchase_price = {'Average Purchase Price':f'{avg_purchase_price}'}\n",
    "avg_purchase_price_df = pd.DataFrame(avg_purchase_price, index= [0])\n",
    "avg_purchase_price_df"
   ]
  },
  {
   "cell_type": "code",
   "execution_count": 12,
   "metadata": {},
   "outputs": [
    {
     "data": {
      "text/html": [
       "<div>\n",
       "<style scoped>\n",
       "    .dataframe tbody tr th:only-of-type {\n",
       "        vertical-align: middle;\n",
       "    }\n",
       "\n",
       "    .dataframe tbody tr th {\n",
       "        vertical-align: top;\n",
       "    }\n",
       "\n",
       "    .dataframe thead th {\n",
       "        text-align: right;\n",
       "    }\n",
       "</style>\n",
       "<table border=\"1\" class=\"dataframe\">\n",
       "  <thead>\n",
       "    <tr style=\"text-align: right;\">\n",
       "      <th></th>\n",
       "      <th>Total Count</th>\n",
       "      <th>Percentage of Players</th>\n",
       "    </tr>\n",
       "  </thead>\n",
       "  <tbody>\n",
       "    <tr>\n",
       "      <th>Male</th>\n",
       "      <td>484</td>\n",
       "      <td>85.66</td>\n",
       "    </tr>\n",
       "    <tr>\n",
       "      <th>Female</th>\n",
       "      <td>81</td>\n",
       "      <td>14.34</td>\n",
       "    </tr>\n",
       "    <tr>\n",
       "      <th>Other / Non-Disclosed</th>\n",
       "      <td>0</td>\n",
       "      <td>0.00</td>\n",
       "    </tr>\n",
       "  </tbody>\n",
       "</table>\n",
       "</div>"
      ],
      "text/plain": [
       "                       Total Count  Percentage of Players\n",
       "Male                           484                  85.66\n",
       "Female                          81                  14.34\n",
       "Other / Non-Disclosed            0                   0.00"
      ]
     },
     "execution_count": 12,
     "metadata": {},
     "output_type": "execute_result"
    }
   ],
   "source": [
    "#Gender Demographics:\n",
    "\n",
    "# Percentage and Count of Male Players\n",
    "male_count = len(pymoli_data_df.loc[pymoli_data_df['Gender'] == 'Male']['SN'].unique())\n",
    "\n",
    "# Percentage and Count of Female Players\n",
    "female_count = len(pymoli_data_df.loc[pymoli_data_df['Gender']=='Female']['SN'].unique())\n",
    "\n",
    "# Percentage and Count of Other / Non-Disclosed\n",
    "other_count = len(pymoli_data_df.loc[pymoli_data_df['Gender']=='Other/Non-Disclosed']['SN'].unique())\n",
    "\n",
    "sum_of_count = male_count + female_count + other_count\n",
    "\n",
    "gender_demographics = {'Total Count':[male_count,female_count,other_count],'Percentage of Players':[round(male_count/sum_of_count*100,2),\n",
    "round(female_count/sum_of_count*100,2),round(other_count/sum_of_count*100,2)]}\n",
    "gender_demographics_df = pd.DataFrame(gender_demographics,index = ['Male','Female','Other / Non-Disclosed'])\n",
    "gender_demographics_df\n"
   ]
  },
  {
   "cell_type": "code",
   "execution_count": 13,
   "metadata": {},
   "outputs": [
    {
     "data": {
      "text/html": [
       "<style  type=\"text/css\" >\n",
       "</style><table id=\"T_2c9e7824_07e4_11eb_aa6d_ccd9ac4524fe\" ><thead>    <tr>        <th class=\"blank level0\" ></th>        <th class=\"col_heading level0 col0\" >Purchase Count</th>        <th class=\"col_heading level0 col1\" >Average Purchase Price</th>        <th class=\"col_heading level0 col2\" >Total Purchase Value</th>        <th class=\"col_heading level0 col3\" >Average Purchase Total per Person</th>    </tr>    <tr>        <th class=\"index_name level0\" >Gender</th>        <th class=\"blank\" ></th>        <th class=\"blank\" ></th>        <th class=\"blank\" ></th>        <th class=\"blank\" ></th>    </tr></thead><tbody>\n",
       "                <tr>\n",
       "                        <th id=\"T_2c9e7824_07e4_11eb_aa6d_ccd9ac4524felevel0_row0\" class=\"row_heading level0 row0\" >Female</th>\n",
       "                        <td id=\"T_2c9e7824_07e4_11eb_aa6d_ccd9ac4524ferow0_col0\" class=\"data row0 col0\" >113</td>\n",
       "                        <td id=\"T_2c9e7824_07e4_11eb_aa6d_ccd9ac4524ferow0_col1\" class=\"data row0 col1\" >$3.20</td>\n",
       "                        <td id=\"T_2c9e7824_07e4_11eb_aa6d_ccd9ac4524ferow0_col2\" class=\"data row0 col2\" >361.940000</td>\n",
       "                        <td id=\"T_2c9e7824_07e4_11eb_aa6d_ccd9ac4524ferow0_col3\" class=\"data row0 col3\" >$4.47</td>\n",
       "            </tr>\n",
       "            <tr>\n",
       "                        <th id=\"T_2c9e7824_07e4_11eb_aa6d_ccd9ac4524felevel0_row1\" class=\"row_heading level0 row1\" >Male</th>\n",
       "                        <td id=\"T_2c9e7824_07e4_11eb_aa6d_ccd9ac4524ferow1_col0\" class=\"data row1 col0\" >652</td>\n",
       "                        <td id=\"T_2c9e7824_07e4_11eb_aa6d_ccd9ac4524ferow1_col1\" class=\"data row1 col1\" >$3.02</td>\n",
       "                        <td id=\"T_2c9e7824_07e4_11eb_aa6d_ccd9ac4524ferow1_col2\" class=\"data row1 col2\" >1967.640000</td>\n",
       "                        <td id=\"T_2c9e7824_07e4_11eb_aa6d_ccd9ac4524ferow1_col3\" class=\"data row1 col3\" >$4.07</td>\n",
       "            </tr>\n",
       "            <tr>\n",
       "                        <th id=\"T_2c9e7824_07e4_11eb_aa6d_ccd9ac4524felevel0_row2\" class=\"row_heading level0 row2\" >Other / Non-Disclosed</th>\n",
       "                        <td id=\"T_2c9e7824_07e4_11eb_aa6d_ccd9ac4524ferow2_col0\" class=\"data row2 col0\" >15</td>\n",
       "                        <td id=\"T_2c9e7824_07e4_11eb_aa6d_ccd9ac4524ferow2_col1\" class=\"data row2 col1\" >$3.35</td>\n",
       "                        <td id=\"T_2c9e7824_07e4_11eb_aa6d_ccd9ac4524ferow2_col2\" class=\"data row2 col2\" >50.190000</td>\n",
       "                        <td id=\"T_2c9e7824_07e4_11eb_aa6d_ccd9ac4524ferow2_col3\" class=\"data row2 col3\" >$4.56</td>\n",
       "            </tr>\n",
       "    </tbody></table>"
      ],
      "text/plain": [
       "<pandas.io.formats.style.Styler at 0x1a382a0a490>"
      ]
     },
     "execution_count": 13,
     "metadata": {},
     "output_type": "execute_result"
    }
   ],
   "source": [
    "### Purchasing Analysis (Gender)\n",
    "\n",
    "#Group data by Gender \n",
    "gender_demographics = pymoli_data_df.groupby(\"Gender\")\n",
    "total_count_gender = gender_demographics.nunique()[\"SN\"]\n",
    "\n",
    "# The below each broken by gender:\n",
    "\n",
    "# Purchase Count\n",
    "purchase_count = gender_demographics[\"Purchase ID\"].count()\n",
    "purchase_count\n",
    "\n",
    "# Average Purchase Price\n",
    "avg_purchase_price_gender = gender_demographics[\"Price\"].mean()\n",
    "avg_purchase_price_gender\n",
    "\n",
    "# Total Purchase Value\n",
    "\n",
    "total_purchase_value = gender_demographics[\"Price\"].sum()\n",
    "total_purchase_value\n",
    "\n",
    "# Average Purchase Total per Person by Gender\n",
    "avg_purchase_total_gender = total_purchase_value/total_count_gender\n",
    "avg_purchase_total_gender \n",
    "\n",
    "# Create data frame \n",
    "purchasing_analysis_gender = pd.DataFrame({\"Purchase Count\": purchase_count, \n",
    "                                    \"Average Purchase Price\": avg_purchase_price_gender,\n",
    "                                    \"Total Purchase Value\":total_purchase_value,\n",
    "                                    \"Average Purchase Total per Person\": avg_purchase_total_gender})\n",
    "\n",
    "# Creat an index for \"Gender\"\n",
    "purchasing_analysis_gender.index.name = \"Gender\"\n",
    "\n",
    "# Format \n",
    "purchasing_analysis_gender.style.format({\"Average Purchase Value\":\"${:,.2f}\",\n",
    "                                  \"Average Purchase Price\":\"${:,.2f}\",\n",
    "                                  \"Average Purchase Total per Person\":\"${:,.2f}\"})\n"
   ]
  },
  {
   "cell_type": "code",
   "execution_count": null,
   "metadata": {},
   "outputs": [],
   "source": []
  },
  {
   "cell_type": "code",
   "execution_count": 29,
   "metadata": {},
   "outputs": [
    {
     "data": {
      "text/html": [
       "<style  type=\"text/css\" >\n",
       "</style><table id=\"T_521bcbab_07e7_11eb_ae76_ccd9ac4524fe\" ><thead>    <tr>        <th class=\"blank level0\" ></th>        <th class=\"col_heading level0 col0\" >Purchase Count</th>        <th class=\"col_heading level0 col1\" >Average Purchase Price</th>        <th class=\"col_heading level0 col2\" >Total Purchase Value</th>        <th class=\"col_heading level0 col3\" >Average Purchase Total per Person by Age Group</th>    </tr></thead><tbody>\n",
       "                <tr>\n",
       "                        <th id=\"T_521bcbab_07e7_11eb_ae76_ccd9ac4524felevel0_row0\" class=\"row_heading level0 row0\" ><10</th>\n",
       "                        <td id=\"T_521bcbab_07e7_11eb_ae76_ccd9ac4524ferow0_col0\" class=\"data row0 col0\" >17</td>\n",
       "                        <td id=\"T_521bcbab_07e7_11eb_ae76_ccd9ac4524ferow0_col1\" class=\"data row0 col1\" >$3.35</td>\n",
       "                        <td id=\"T_521bcbab_07e7_11eb_ae76_ccd9ac4524ferow0_col2\" class=\"data row0 col2\" >$77.13</td>\n",
       "                        <td id=\"T_521bcbab_07e7_11eb_ae76_ccd9ac4524ferow0_col3\" class=\"data row0 col3\" >$4.54</td>\n",
       "            </tr>\n",
       "            <tr>\n",
       "                        <th id=\"T_521bcbab_07e7_11eb_ae76_ccd9ac4524felevel0_row1\" class=\"row_heading level0 row1\" >10-14</th>\n",
       "                        <td id=\"T_521bcbab_07e7_11eb_ae76_ccd9ac4524ferow1_col0\" class=\"data row1 col0\" >22</td>\n",
       "                        <td id=\"T_521bcbab_07e7_11eb_ae76_ccd9ac4524ferow1_col1\" class=\"data row1 col1\" >$2.96</td>\n",
       "                        <td id=\"T_521bcbab_07e7_11eb_ae76_ccd9ac4524ferow1_col2\" class=\"data row1 col2\" >$82.78</td>\n",
       "                        <td id=\"T_521bcbab_07e7_11eb_ae76_ccd9ac4524ferow1_col3\" class=\"data row1 col3\" >$3.76</td>\n",
       "            </tr>\n",
       "            <tr>\n",
       "                        <th id=\"T_521bcbab_07e7_11eb_ae76_ccd9ac4524felevel0_row2\" class=\"row_heading level0 row2\" >15-19</th>\n",
       "                        <td id=\"T_521bcbab_07e7_11eb_ae76_ccd9ac4524ferow2_col0\" class=\"data row2 col0\" >107</td>\n",
       "                        <td id=\"T_521bcbab_07e7_11eb_ae76_ccd9ac4524ferow2_col1\" class=\"data row2 col1\" >$3.04</td>\n",
       "                        <td id=\"T_521bcbab_07e7_11eb_ae76_ccd9ac4524ferow2_col2\" class=\"data row2 col2\" >$412.89</td>\n",
       "                        <td id=\"T_521bcbab_07e7_11eb_ae76_ccd9ac4524ferow2_col3\" class=\"data row2 col3\" >$3.86</td>\n",
       "            </tr>\n",
       "            <tr>\n",
       "                        <th id=\"T_521bcbab_07e7_11eb_ae76_ccd9ac4524felevel0_row3\" class=\"row_heading level0 row3\" >20-24</th>\n",
       "                        <td id=\"T_521bcbab_07e7_11eb_ae76_ccd9ac4524ferow3_col0\" class=\"data row3 col0\" >258</td>\n",
       "                        <td id=\"T_521bcbab_07e7_11eb_ae76_ccd9ac4524ferow3_col1\" class=\"data row3 col1\" >$3.05</td>\n",
       "                        <td id=\"T_521bcbab_07e7_11eb_ae76_ccd9ac4524ferow3_col2\" class=\"data row3 col2\" >$1,114.06</td>\n",
       "                        <td id=\"T_521bcbab_07e7_11eb_ae76_ccd9ac4524ferow3_col3\" class=\"data row3 col3\" >$4.32</td>\n",
       "            </tr>\n",
       "            <tr>\n",
       "                        <th id=\"T_521bcbab_07e7_11eb_ae76_ccd9ac4524felevel0_row4\" class=\"row_heading level0 row4\" >25-29</th>\n",
       "                        <td id=\"T_521bcbab_07e7_11eb_ae76_ccd9ac4524ferow4_col0\" class=\"data row4 col0\" >77</td>\n",
       "                        <td id=\"T_521bcbab_07e7_11eb_ae76_ccd9ac4524ferow4_col1\" class=\"data row4 col1\" >$2.90</td>\n",
       "                        <td id=\"T_521bcbab_07e7_11eb_ae76_ccd9ac4524ferow4_col2\" class=\"data row4 col2\" >$293.00</td>\n",
       "                        <td id=\"T_521bcbab_07e7_11eb_ae76_ccd9ac4524ferow4_col3\" class=\"data row4 col3\" >$3.81</td>\n",
       "            </tr>\n",
       "            <tr>\n",
       "                        <th id=\"T_521bcbab_07e7_11eb_ae76_ccd9ac4524felevel0_row5\" class=\"row_heading level0 row5\" >30-34</th>\n",
       "                        <td id=\"T_521bcbab_07e7_11eb_ae76_ccd9ac4524ferow5_col0\" class=\"data row5 col0\" >52</td>\n",
       "                        <td id=\"T_521bcbab_07e7_11eb_ae76_ccd9ac4524ferow5_col1\" class=\"data row5 col1\" >$2.93</td>\n",
       "                        <td id=\"T_521bcbab_07e7_11eb_ae76_ccd9ac4524ferow5_col2\" class=\"data row5 col2\" >$214.00</td>\n",
       "                        <td id=\"T_521bcbab_07e7_11eb_ae76_ccd9ac4524ferow5_col3\" class=\"data row5 col3\" >$4.12</td>\n",
       "            </tr>\n",
       "            <tr>\n",
       "                        <th id=\"T_521bcbab_07e7_11eb_ae76_ccd9ac4524felevel0_row6\" class=\"row_heading level0 row6\" >35-39</th>\n",
       "                        <td id=\"T_521bcbab_07e7_11eb_ae76_ccd9ac4524ferow6_col0\" class=\"data row6 col0\" >31</td>\n",
       "                        <td id=\"T_521bcbab_07e7_11eb_ae76_ccd9ac4524ferow6_col1\" class=\"data row6 col1\" >$3.60</td>\n",
       "                        <td id=\"T_521bcbab_07e7_11eb_ae76_ccd9ac4524ferow6_col2\" class=\"data row6 col2\" >$147.67</td>\n",
       "                        <td id=\"T_521bcbab_07e7_11eb_ae76_ccd9ac4524ferow6_col3\" class=\"data row6 col3\" >$4.76</td>\n",
       "            </tr>\n",
       "            <tr>\n",
       "                        <th id=\"T_521bcbab_07e7_11eb_ae76_ccd9ac4524felevel0_row7\" class=\"row_heading level0 row7\" >40+</th>\n",
       "                        <td id=\"T_521bcbab_07e7_11eb_ae76_ccd9ac4524ferow7_col0\" class=\"data row7 col0\" >12</td>\n",
       "                        <td id=\"T_521bcbab_07e7_11eb_ae76_ccd9ac4524ferow7_col1\" class=\"data row7 col1\" >$2.94</td>\n",
       "                        <td id=\"T_521bcbab_07e7_11eb_ae76_ccd9ac4524ferow7_col2\" class=\"data row7 col2\" >$38.24</td>\n",
       "                        <td id=\"T_521bcbab_07e7_11eb_ae76_ccd9ac4524ferow7_col3\" class=\"data row7 col3\" >$3.19</td>\n",
       "            </tr>\n",
       "    </tbody></table>"
      ],
      "text/plain": [
       "<pandas.io.formats.style.Styler at 0x1a383d01a60>"
      ]
     },
     "execution_count": 29,
     "metadata": {},
     "output_type": "execute_result"
    }
   ],
   "source": [
    "### Age Demographics\n",
    "\n",
    "# The below each broken into bins of 4 years (i.e. &lt;10, 10-14, 15-19, etc.)\n",
    "\n",
    "# Create bins for ages\n",
    "age_bins = [0, 9.90, 14.90, 19.90, 24.90, 29.90, 34.90, 39.90, 99999]\n",
    "group_names = [\"<10\", \"10-14\", \"15-19\", \"20-24\", \"25-29\", \"30-34\", \"35-39\", \"40+\"]\n",
    "\n",
    "\n",
    "pymoli_data_df[\"Age Demographics\"]= pd.cut(pymoli_data_df[\"Age\"], age_bins, labels=group_names)\n",
    "demographic_group =pymoli_data_df.groupby(\"Age Demographics\")\n",
    "pymoli_data_df.head()\n",
    "\n",
    "\n",
    "# Purchase Count\n",
    "purchase_count_age = demographic_group[\"SN\"].nunique()\n",
    "purchase_count_age\n",
    "\n",
    "# Average Purchase Price\n",
    "avg_purchase_price_age = demographic_group[\"Price\"].mean()\n",
    "avg_purchase_price_age\n",
    "\n",
    "# Total Purchase Value\n",
    "total_purchase_value = demographic_group[\"Price\"].sum()\n",
    "total_purchase_value\n",
    "\n",
    "# Average Purchase Total per Person by Age Group\n",
    "avg_purchase_per_person_age = total_purchase_value/purchase_count_age\n",
    "avg_purchase_per_person_age\n",
    "\n",
    "# Create data frame \n",
    "age_demographics = pd.DataFrame({\"Purchase Count\": purchase_count_age,\n",
    "                                 \"Average Purchase Price\": avg_purchase_price_age,\n",
    "                                 \"Total Purchase Value\":total_purchase_value,\n",
    "                                 \"Average Purchase Total per Person by Age Group\": avg_purchase_per_person_age})\n",
    "\n",
    "# Format the data frame with no index name in the corner\n",
    "age_demographics.index.name = None\n",
    "\n",
    "# Format with currency symbols\n",
    "age_demographics.style.format({\"Average Purchase Price\":\"${:,.2f}\",\n",
    "                               \"Total Purchase Value\":\"${:,.2f}\",\n",
    "                               \"Average Purchase Total per Person by Age Group\":\"${:,.2f}\"})"
   ]
  }
 ],
 "metadata": {
  "kernelspec": {
   "display_name": "Python 3",
   "language": "python",
   "name": "python3"
  },
  "language_info": {
   "codemirror_mode": {
    "name": "ipython",
    "version": 3
   },
   "file_extension": ".py",
   "mimetype": "text/x-python",
   "name": "python",
   "nbconvert_exporter": "python",
   "pygments_lexer": "ipython3",
   "version": "3.8.3"
  }
 },
 "nbformat": 4,
 "nbformat_minor": 4
}
